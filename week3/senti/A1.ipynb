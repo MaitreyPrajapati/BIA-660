{
 "cells": [
  {
   "cell_type": "code",
   "execution_count": 18,
   "metadata": {},
   "outputs": [],
   "source": [
    "#Input : filepath to lexicon\n",
    "#Returns : set of lexicon words\n",
    "def loadLexicon(filePath):\n",
    "    s = set()\n",
    "    with open('positive-words.txt', 'r') as file:\n",
    "        for word in file:\n",
    "            s.add(word.strip())\n",
    "    return s"
   ]
  },
  {
   "cell_type": "code",
   "execution_count": 25,
   "metadata": {},
   "outputs": [],
   "source": [
    "def addToDict(words_after_positive, next_word):\n",
    "    if(next_word in words_after_positive):\n",
    "        words_after_positive[next_word] += 1\n",
    "    else:\n",
    "        words_after_positive[next_word] = 1\n",
    "\n",
    "#Input : filePath-positveWords, filePath-inputFile        \n",
    "def findMostOccuringWord(positivePath, textFilePath):\n",
    "    words_after_positive = {}\n",
    "    pos = loadLexicon(positivePath)\n",
    "    \n",
    "    text_file = open(textFilePath, 'r')\n",
    "    with open(textFilePath) as text_file:\n",
    "        for line in text_file:\n",
    "            words = line.strip().split(' ')\n",
    "            for i in range(len(words)-1):\n",
    "                if(words[i] in pos):\n",
    "                    addToDict(words_after_positive, words[i+1])\n",
    "    \n",
    "    return max(words_after_positive, key=words_after_positive.get)"
   ]
  },
  {
   "cell_type": "code",
   "execution_count": 26,
   "metadata": {},
   "outputs": [
    {
     "name": "stdout",
     "output_type": "stream",
     "text": [
      "service\n"
     ]
    }
   ],
   "source": [
    "if __name__ == '__main__':\n",
    "    print(findMostOccuringWord('positive-words.txt', 'textfile'))"
   ]
  },
  {
   "cell_type": "code",
   "execution_count": null,
   "metadata": {},
   "outputs": [],
   "source": []
  },
  {
   "cell_type": "code",
   "execution_count": null,
   "metadata": {},
   "outputs": [],
   "source": []
  }
 ],
 "metadata": {
  "kernelspec": {
   "display_name": "Python 3",
   "language": "python",
   "name": "python3"
  },
  "language_info": {
   "codemirror_mode": {
    "name": "ipython",
    "version": 3
   },
   "file_extension": ".py",
   "mimetype": "text/x-python",
   "name": "python",
   "nbconvert_exporter": "python",
   "pygments_lexer": "ipython3",
   "version": "3.7.6"
  }
 },
 "nbformat": 4,
 "nbformat_minor": 4
}
