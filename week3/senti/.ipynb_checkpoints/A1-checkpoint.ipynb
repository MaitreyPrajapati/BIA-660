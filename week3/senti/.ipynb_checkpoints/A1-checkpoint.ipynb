{
 "cells": [
  {
   "cell_type": "code",
   "execution_count": 1,
   "metadata": {},
   "outputs": [],
   "source": [
    "def loadLexicon(filePath):\n",
    "    s = set()\n",
    "    with open('positive-words.txt', 'r') as file:\n",
    "        for word in file:\n",
    "            s.add(word.strip())\n",
    "    return s"
   ]
  },
  {
   "cell_type": "code",
   "execution_count": 5,
   "metadata": {},
   "outputs": [
    {
     "ename": "SyntaxError",
     "evalue": "invalid syntax (<ipython-input-5-31e33a3c9a95>, line 9)",
     "output_type": "error",
     "traceback": [
      "\u001b[0;36m  File \u001b[0;32m\"<ipython-input-5-31e33a3c9a95>\"\u001b[0;36m, line \u001b[0;32m9\u001b[0m\n\u001b[0;31m    for w in words;\u001b[0m\n\u001b[0m                  ^\u001b[0m\n\u001b[0;31mSyntaxError\u001b[0m\u001b[0;31m:\u001b[0m invalid syntax\n"
     ]
    }
   ],
   "source": [
    "def addToDict(words_after_positive, next_word):\n",
    "    if(next_word in words_after_positive):\n",
    "        words_after_positive[next_word] += 1\n",
    "    else:\n",
    "        words_after_positive[next_word] = 1\n",
    "    \n",
    "def findMostOccuringWord(positivePath, textFilePath):\n",
    "    words_after_positive = {}\n",
    "    pos = loadLexicon(positivePath)\n",
    "    \n",
    "    text_file = open(textFilePath)\n",
    "    with open(textFilePath) as text_file:\n",
    "        for line in text_file:\n",
    "            words = line.strip().split(' ')\n",
    "            for i in range(len(words)-1):\n",
    "                if(words[i] in pos):\n",
    "\n",
    "\n",
    "            "
   ]
  },
  {
   "cell_type": "code",
   "execution_count": null,
   "metadata": {},
   "outputs": [],
   "source": []
  },
  {
   "cell_type": "code",
   "execution_count": 4,
   "metadata": {},
   "outputs": [
    {
     "name": "stdout",
     "output_type": "stream",
     "text": [
      "{'service': 1, 'phone': 1, 'features': 1}\n",
      "service\n"
     ]
    }
   ],
   "source": [
    "print(findMostOccuringWord('positive-words.txt', 'textfile'))"
   ]
  },
  {
   "cell_type": "code",
   "execution_count": null,
   "metadata": {},
   "outputs": [],
   "source": []
  }
 ],
 "metadata": {
  "kernelspec": {
   "display_name": "Python 3",
   "language": "python",
   "name": "python3"
  },
  "language_info": {
   "codemirror_mode": {
    "name": "ipython",
    "version": 3
   },
   "file_extension": ".py",
   "mimetype": "text/x-python",
   "name": "python",
   "nbconvert_exporter": "python",
   "pygments_lexer": "ipython3",
   "version": "3.7.6"
  }
 },
 "nbformat": 4,
 "nbformat_minor": 4
}
